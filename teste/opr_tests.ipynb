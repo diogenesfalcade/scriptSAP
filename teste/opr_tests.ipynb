{
 "cells": [
  {
   "cell_type": "code",
   "execution_count": 1,
   "metadata": {},
   "outputs": [
    {
     "name": "stderr",
     "output_type": "stream",
     "text": [
      "C:\\Users\\357863\\AppData\\Local\\Temp\\ipykernel_13400\\4152548853.py:2: DtypeWarning: Columns (8,10,13,16,21,25,26,29,31,32,34,35,42,54,63) have mixed types. Specify dtype option on import or set low_memory=False.\n",
      "  df_opr = pd.read_table(r\"C:\\Users\\357863\\OneDrive - Aker Solutions\\Desktop\\OPR_crua.txt\", sep = '\\t', encoding= 'iso-8859-1', header = 1, quoting = 3)\n"
     ]
    }
   ],
   "source": [
    "import pandas as pd\n",
    "df_opr = pd.read_table(r\"C:\\Users\\357863\\OneDrive - Aker Solutions\\Desktop\\OPR_crua.txt\", sep = '\\t', encoding= 'iso-8859-1', header = 1, quoting = 3)\n"
   ]
  },
  {
   "cell_type": "code",
   "execution_count": 3,
   "metadata": {},
   "outputs": [],
   "source": [
    "STD_LABELS = {\n",
    "        \"PldOrd\": \"1 PldOrd\",\n",
    "        \"PurRqs\": \"2 PurRqs\",\n",
    "        \"POitem\": \"4 POitem\",\n",
    "        \"QM-lot\": \"5 QM-lot\",\n",
    "        \"Stock\":  \"6 Stock\",\n",
    "        \"PrdOrd\": \"7 PrdOrd\"\n",
    "    }"
   ]
  },
  {
   "cell_type": "code",
   "execution_count": 4,
   "metadata": {},
   "outputs": [
    {
     "data": {
      "text/plain": [
       "'2 PurRqs'"
      ]
     },
     "execution_count": 4,
     "metadata": {},
     "output_type": "execute_result"
    }
   ],
   "source": [
    "STD_LABELS['PurRqs']"
   ]
  }
 ],
 "metadata": {
  "kernelspec": {
   "display_name": "Python 3.10.8 64-bit",
   "language": "python",
   "name": "python3"
  },
  "language_info": {
   "codemirror_mode": {
    "name": "ipython",
    "version": 3
   },
   "file_extension": ".py",
   "mimetype": "text/x-python",
   "name": "python",
   "nbconvert_exporter": "python",
   "pygments_lexer": "ipython3",
   "version": "3.10.8"
  },
  "orig_nbformat": 4,
  "vscode": {
   "interpreter": {
    "hash": "58054a1b8431fceb655d3ff9a5b233fcf3de1eee86316ba02194a812b28cc056"
   }
  }
 },
 "nbformat": 4,
 "nbformat_minor": 2
}
