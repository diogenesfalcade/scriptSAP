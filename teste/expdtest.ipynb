{
 "cells": [
  {
   "cell_type": "code",
   "execution_count": 4,
   "metadata": {},
   "outputs": [],
   "source": [
    "import pandas as pd\n",
    "import json\n",
    "with open(\"C:\\\\Users\\\\357863\\\\Aker Solutions\\\\PMO & Planning Team - General\\\\Material Planning\\\\Dashboard SC - Power BI\\\\rotina_python\\\\config.json\", \"r\") as file:\n",
    "    objects = json.load(file)\n",
    "    \n",
    "COLUMNS_EXPD = objects[\"COLUMNS_EXPD\"]\n",
    "MERGED_KEYS = objects[\"MERGED_KEYS\"]\n",
    "STD_LABELS = objects[\"STD_LABELS\"]\n",
    "COLUMNS_ME5A = objects[\"COLUMNS_ME5A\"]"
   ]
  },
  {
   "cell_type": "code",
   "execution_count": 5,
   "metadata": {},
   "outputs": [],
   "source": [
    "df = pd.read_table(f'C:\\\\Users\\\\357863\\\\Aker Solutions\\\\PMO & Planning Team - General\\\\Material Planning\\\\Dashboard SC - Power BI\\\\rotina_python\\\\SAP data\\\\Bases\\\\EXPD_complete.txt', sep = '\\t', encoding= 'ISO-8859-1', header = 1, quoting = 3)\n",
    "df.rename(columns={label:COLUMNS_EXPD[i] for i,label in enumerate(df.columns)}, inplace=True)\n",
    "long_description = df.copy(deep = True)\n",
    "long_description.dropna(axis = 0, subset = 'Unnamed: 0', inplace = True)\n",
    "long_description['Index'] = long_description.index\n",
    "long_description.reset_index(inplace = True)"
   ]
  },
  {
   "cell_type": "code",
   "execution_count": 14,
   "metadata": {},
   "outputs": [],
   "source": [
    "\n",
    "lista = []\n",
    "for row in long_description.itertuples(index=True):\n",
    "    description = ''\n",
    "    for item in row:\n",
    "        if type(item) == str:\n",
    "            description += item\n",
    "    lista.append(description)\n",
    "        "
   ]
  }
 ],
 "metadata": {
  "kernelspec": {
   "display_name": "Python 3.10.8 64-bit",
   "language": "python",
   "name": "python3"
  },
  "language_info": {
   "codemirror_mode": {
    "name": "ipython",
    "version": 3
   },
   "file_extension": ".py",
   "mimetype": "text/x-python",
   "name": "python",
   "nbconvert_exporter": "python",
   "pygments_lexer": "ipython3",
   "version": "3.10.8"
  },
  "orig_nbformat": 4,
  "vscode": {
   "interpreter": {
    "hash": "58054a1b8431fceb655d3ff9a5b233fcf3de1eee86316ba02194a812b28cc056"
   }
  }
 },
 "nbformat": 4,
 "nbformat_minor": 2
}
